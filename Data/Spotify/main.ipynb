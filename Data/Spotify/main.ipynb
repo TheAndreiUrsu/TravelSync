{
 "cells": [
  {
   "cell_type": "markdown",
   "metadata": {},
   "source": [
    "# Spotify API"
   ]
  },
  {
   "cell_type": "markdown",
   "metadata": {},
   "source": [
    "## Package"
   ]
  },
  {
   "cell_type": "code",
   "execution_count": 4,
   "metadata": {},
   "outputs": [],
   "source": [
    "import spotify_api as sp_api"
   ]
  },
  {
   "cell_type": "markdown",
   "metadata": {},
   "source": [
    "## Getting Token"
   ]
  },
  {
   "cell_type": "code",
   "execution_count": 5,
   "metadata": {},
   "outputs": [],
   "source": [
    "token = sp_api.get_token()"
   ]
  },
  {
   "cell_type": "markdown",
   "metadata": {},
   "source": [
    "## Testing Getting Top Playlist"
   ]
  },
  {
   "cell_type": "code",
   "execution_count": 6,
   "metadata": {},
   "outputs": [],
   "source": [
    "import spotipy\n",
    "from spotipy.oauth2 import SpotifyOAuth\n",
    "\n",
    "sp = spotipy.Spotify(auth=token)"
   ]
  },
  {
   "cell_type": "code",
   "execution_count": 7,
   "metadata": {},
   "outputs": [],
   "source": [
    "categories = sp.categories()\n",
    "#print(categories['categories']['items'])"
   ]
  },
  {
   "cell_type": "code",
   "execution_count": 14,
   "metadata": {},
   "outputs": [
    {
     "name": "stdout",
     "output_type": "stream",
     "text": [
      "Top Lists : toplists\n",
      "Hip-Hop : 0JQ5DAqbMKFQ00XGBls6ym\n",
      "Pop : 0JQ5DAqbMKFEC4WFtoNRpw\n",
      "Country : 0JQ5DAqbMKFKLfwjuJMoNC\n",
      "Latin : 0JQ5DAqbMKFxXaXKP7zcDp\n",
      "Rock : 0JQ5DAqbMKFDXXwE9BDJAr\n",
      "Summer : 0JQ5DAqbMKFLVaM30PMBm4\n",
      "Workout : 0JQ5DAqbMKFAXlCG6QvYQ4\n",
      "R&B : 0JQ5DAqbMKFEZPnFQSFB1T\n",
      "Dance/Electronic : 0JQ5DAqbMKFHOzuVTgTizF\n",
      "Netflix : 0JQ5DAqbMKFEOEBCABAxo9\n",
      "Indie : 0JQ5DAqbMKFCWjUTdzaG0e\n",
      "Mood : 0JQ5DAqbMKFzHmL4tf05da\n",
      "Sleep : 0JQ5DAqbMKFCuoRTxhYWow\n",
      "Christian & Gospel : 0JQ5DAqbMKFy0OenPG51Av\n",
      "Regional Mexican : 0JQ5DAqbMKFDTEtSaS4R92\n",
      "Wellness : 0JQ5DAqbMKFLb2EqgLtpjC\n",
      "Chill : 0JQ5DAqbMKFFzDl7qN9Apr\n",
      "EQUAL : 0JQ5DAqbMKFPw634sFwguI\n",
      "Gaming : 0JQ5DAqbMKFCfObibaOZbv\n"
     ]
    }
   ],
   "source": [
    "top_lists_id = None\n",
    "for category in categories['categories']['items']:\n",
    "    print(f\"{category['name']} : {category['id']}\")\n",
    "    \n",
    "    # if category['name'] == 'Top Lists':\n",
    "    #     top_lists_id = category['id']\n",
    "    #     break"
   ]
  },
  {
   "cell_type": "code",
   "execution_count": 9,
   "metadata": {},
   "outputs": [],
   "source": [
    "countries_ = sp_api.json.load(open(\"countries_code.json\"))['countries']"
   ]
  },
  {
   "cell_type": "code",
   "execution_count": 11,
   "metadata": {},
   "outputs": [
    {
     "ename": "TypeError",
     "evalue": "can only concatenate str (not \"NoneType\") to str",
     "output_type": "error",
     "traceback": [
      "\u001b[1;31m---------------------------------------------------------------------------\u001b[0m",
      "\u001b[1;31mTypeError\u001b[0m                                 Traceback (most recent call last)",
      "\u001b[1;32mc:\\Users\\range\\Documents\\TravelSync\\Data\\Spotify\\main.ipynb Cell 11\u001b[0m line \u001b[0;36m2\n\u001b[0;32m      <a href='vscode-notebook-cell:/c%3A/Users/range/Documents/TravelSync/Data/Spotify/main.ipynb#X32sZmlsZQ%3D%3D?line=0'>1</a>\u001b[0m \u001b[39mfor\u001b[39;00m country_code \u001b[39min\u001b[39;00m countries_:\n\u001b[1;32m----> <a href='vscode-notebook-cell:/c%3A/Users/range/Documents/TravelSync/Data/Spotify/main.ipynb#X32sZmlsZQ%3D%3D?line=1'>2</a>\u001b[0m     playlists \u001b[39m=\u001b[39m sp\u001b[39m.\u001b[39;49mcategory_playlists(category_id\u001b[39m=\u001b[39;49mtop_lists_id, country\u001b[39m=\u001b[39;49mcountry_code, limit\u001b[39m=\u001b[39;49m\u001b[39m4\u001b[39;49m)\n\u001b[0;32m      <a href='vscode-notebook-cell:/c%3A/Users/range/Documents/TravelSync/Data/Spotify/main.ipynb#X32sZmlsZQ%3D%3D?line=3'>4</a>\u001b[0m     \u001b[39mfor\u001b[39;00m playlist \u001b[39min\u001b[39;00m playlists[\u001b[39m'\u001b[39m\u001b[39mplaylists\u001b[39m\u001b[39m'\u001b[39m][\u001b[39m'\u001b[39m\u001b[39mitems\u001b[39m\u001b[39m'\u001b[39m]:\n\u001b[0;32m      <a href='vscode-notebook-cell:/c%3A/Users/range/Documents/TravelSync/Data/Spotify/main.ipynb#X32sZmlsZQ%3D%3D?line=4'>5</a>\u001b[0m         \u001b[39mprint\u001b[39m(\u001b[39mf\u001b[39m\u001b[39m\"\u001b[39m\u001b[39m{\u001b[39;00mcountry_code\u001b[39m}\u001b[39;00m\u001b[39m : \u001b[39m\u001b[39m{\u001b[39;00mplaylist\u001b[39m}\u001b[39;00m\u001b[39m\"\u001b[39m)\n",
      "File \u001b[1;32mc:\\Users\\range\\AppData\\Local\\Programs\\Python\\Python311\\Lib\\site-packages\\spotipy\\client.py:1642\u001b[0m, in \u001b[0;36mSpotify.category_playlists\u001b[1;34m(self, category_id, country, limit, offset)\u001b[0m\n\u001b[0;32m   1624\u001b[0m \u001b[39mdef\u001b[39;00m \u001b[39mcategory_playlists\u001b[39m(\n\u001b[0;32m   1625\u001b[0m     \u001b[39mself\u001b[39m, category_id\u001b[39m=\u001b[39m\u001b[39mNone\u001b[39;00m, country\u001b[39m=\u001b[39m\u001b[39mNone\u001b[39;00m, limit\u001b[39m=\u001b[39m\u001b[39m20\u001b[39m, offset\u001b[39m=\u001b[39m\u001b[39m0\u001b[39m\n\u001b[0;32m   1626\u001b[0m ):\n\u001b[0;32m   1627\u001b[0m \u001b[39m    \u001b[39m\u001b[39m\"\"\" Get a list of playlists for a specific Spotify category\u001b[39;00m\n\u001b[0;32m   1628\u001b[0m \n\u001b[0;32m   1629\u001b[0m \u001b[39m        Parameters:\u001b[39;00m\n\u001b[1;32m   (...)\u001b[0m\n\u001b[0;32m   1639\u001b[0m \u001b[39m              items.\u001b[39;00m\n\u001b[0;32m   1640\u001b[0m \u001b[39m    \"\"\"\u001b[39;00m\n\u001b[0;32m   1641\u001b[0m     \u001b[39mreturn\u001b[39;00m \u001b[39mself\u001b[39m\u001b[39m.\u001b[39m_get(\n\u001b[1;32m-> 1642\u001b[0m         \u001b[39m\"\u001b[39;49m\u001b[39mbrowse/categories/\u001b[39;49m\u001b[39m\"\u001b[39;49m \u001b[39m+\u001b[39;49m category_id \u001b[39m+\u001b[39m \u001b[39m\"\u001b[39m\u001b[39m/playlists\u001b[39m\u001b[39m\"\u001b[39m,\n\u001b[0;32m   1643\u001b[0m         country\u001b[39m=\u001b[39mcountry,\n\u001b[0;32m   1644\u001b[0m         limit\u001b[39m=\u001b[39mlimit,\n\u001b[0;32m   1645\u001b[0m         offset\u001b[39m=\u001b[39moffset,\n\u001b[0;32m   1646\u001b[0m     )\n",
      "\u001b[1;31mTypeError\u001b[0m: can only concatenate str (not \"NoneType\") to str"
     ]
    }
   ],
   "source": [
    "for country_code in countries_:\n",
    "    playlists = sp.category_playlists(category_id=top_lists_id, country=country_code, limit=4)\n",
    "\n",
    "    for playlist in playlists['playlists']['items']:\n",
    "        print(f\"{country_code} : {playlist}\")"
   ]
  },
  {
   "cell_type": "markdown",
   "metadata": {},
   "source": [
    "## Obtaining Dataset"
   ]
  },
  {
   "cell_type": "code",
   "execution_count": null,
   "metadata": {},
   "outputs": [],
   "source": [
    "# country_json = open(\"countries.json\")\n",
    "# country_data = sp_api.json.load(country_json)['markets']\n",
    "\n",
    "# for cy in countries_2:\n",
    "#     top_songs = sp_api.get_songs_from_playlist(token, sp_api.get_top_50(token, cy))['tracks']['items']\n",
    "\n",
    "#     song_dict = {}\n",
    "\n",
    "#     print(cy)\n",
    "    \n",
    "#     for i in range(len(top_songs)):\n",
    "#         songs_ = top_songs[i]\n",
    "#         song_track = songs_['track']\n",
    "        \n",
    "#         print(i)\n",
    "#         song_dict[song_track['id']] = {}\n",
    "#         _song = song_dict[song_track['id']]\n",
    "#         _song['title'] = song_track['name']\n",
    "#         _song['artist'] = song_track['artists'][0]['name']\n",
    "#         _song['popularity'] = song_track['popularity']\n",
    "#         _song['explicit'] = song_track['explicit']\n",
    "#         genres = sp_api.get_genres(token, song_track['artists'][0]['id'])\n",
    "#         _song['genres'] = genres\n",
    "#         _song['duration_s'] = song_track['duration_ms'] / 1000\n",
    "\n",
    "        # with open(f\"../dataset/top_songs/{cy}_top_songs.json\",\"w\") as outfile:\n",
    "        #     sp_api.json.dump(song_dict, outfile)\n",
    "\n",
    "\n",
    "# song_json = open(\"../dataset/spotify_api/songs_ES.json\", 'r')\n",
    "\n",
    "# songs = sp_api.json.load(song_json)['tracks']['items']\n",
    "\n",
    "# song_dict = {}\n",
    "# for i in range(len(songs)):\n",
    "\n",
    "#     songs_ = songs[i]\n",
    "#     song_track = songs_['track']\n",
    "\n",
    "#     song_dict[song_track['id']] = {}\n",
    "#     _song = song_dict[song_track['id']]\n",
    "#     _song['title'] = song_track['name']\n",
    "#     _song['artist'] = song_track['artists'][0]['name']\n",
    "#     _song['popularity'] = song_track['popularity']\n",
    "#     _song['explicit'] = song_track['explicit']\n",
    "#     genres = sp_api.get_genres(token, song_track['artists'][0]['id'])\n",
    "#     _song['genres'] = genres\n",
    "#     _song['duration_s'] = song_track['duration_ms'] / 1000\n",
    "\n",
    "#     with open(\"../dataset/top_songs/ES_top_songs.json\",\"w\") as outfile:\n",
    "#         sp_api.json.dump(song_dict, outfile)"
   ]
  },
  {
   "cell_type": "markdown",
   "metadata": {},
   "source": [
    "## Countries"
   ]
  },
  {
   "cell_type": "code",
   "execution_count": null,
   "metadata": {},
   "outputs": [],
   "source": [
    "# country_json = open(\"countries.json\")\n",
    "# country_data = sp_api.json.load(country_json)\n",
    "\n",
    "# print(f\"Number of countries supported by sp_apiotify: {len(country_data['markets'])}\")\n"
   ]
  },
  {
   "cell_type": "code",
   "execution_count": null,
   "metadata": {},
   "outputs": [
    {
     "name": "stdout",
     "output_type": "stream",
     "text": [
      "{'Andorra': 'AD', 'United Arab Emirates': 'AE', 'Antigua and Barbuda': 'AG', 'Albania': 'AL', 'Armenia': 'AM', 'Angola': 'AO', 'Argentina': 'AR', 'Austria': 'AT', 'Australia': 'AU', 'Azerbaijan': 'AZ', 'Bosnia and Herzegovina': 'BA', 'Barbados': 'BB', 'Bangladesh': 'BD', 'Belgium': 'BE', 'Burkina Faso': 'BF', 'Bulgaria': 'BG', 'Bahrain': 'BH', 'Burundi': 'BI', 'Benin': 'BJ', 'Brunei Darussalam': 'BN', 'Bolivia, Plurinational State of': 'BO', 'Brazil': 'BR', 'Bahamas': 'BS', 'Bhutan': 'BT', 'Botswana': 'BW', 'Belarus': 'BY', 'Belize': 'BZ', 'Canada': 'CA', 'Congo, The Democratic Republic of the': 'CD', 'Congo': 'CG', 'Switzerland': 'CH', \"Côte d'Ivoire\": 'CI', 'Chile': 'CL', 'Cameroon': 'CM', 'Colombia': 'CO', 'Costa Rica': 'CR', 'Cabo Verde': 'CV', 'Curaçao': 'CW', 'Cyprus': 'CY', 'Czechia': 'CZ', 'Germany': 'DE', 'Djibouti': 'DJ', 'Denmark': 'DK', 'Dominica': 'DM', 'Dominican Republic': 'DO', 'Algeria': 'DZ', 'Ecuador': 'EC', 'Estonia': 'EE', 'Egypt': 'EG', 'Spain': 'ES', 'Ethiopia': 'ET', 'Finland': 'FI', 'Fiji': 'FJ', 'Micronesia, Federated States of': 'FM', 'France': 'FR', 'Gabon': 'GA', 'United Kingdom': 'GB', 'Grenada': 'GD', 'Georgia': 'GE', 'Ghana': 'GH', 'Gambia': 'GM', 'Guinea': 'GN', 'Equatorial Guinea': 'GQ', 'Greece': 'GR', 'Guatemala': 'GT', 'Guinea-Bissau': 'GW', 'Guyana': 'GY', 'Hong Kong': 'HK', 'Honduras': 'HN', 'Croatia': 'HR', 'Haiti': 'HT', 'Hungary': 'HU', 'Indonesia': 'ID', 'Ireland': 'IE', 'Israel': 'IL', 'India': 'IN', 'Iraq': 'IQ', 'Iceland': 'IS', 'Italy': 'IT', 'Jamaica': 'JM', 'Jordan': 'JO', 'Japan': 'JP', 'Kenya': 'KE', 'Kyrgyzstan': 'KG', 'Cambodia': 'KH', 'Kiribati': 'KI', 'Comoros': 'KM', 'Saint Kitts and Nevis': 'KN', 'Korea, Republic of': 'KR', 'Kuwait': 'KW', 'Kazakhstan': 'KZ', \"Lao People's Democratic Republic\": 'LA', 'Lebanon': 'LB', 'Saint Lucia': 'LC', 'Liechtenstein': 'LI', 'Sri Lanka': 'LK', 'Liberia': 'LR', 'Lesotho': 'LS', 'Lithuania': 'LT', 'Luxembourg': 'LU', 'Latvia': 'LV', 'Libya': 'LY', 'Morocco': 'MA', 'Monaco': 'MC', 'Moldova, Republic of': 'MD', 'Montenegro': 'ME', 'Madagascar': 'MG', 'Marshall Islands': 'MH', 'North Macedonia': 'MK', 'Mali': 'ML', 'Mongolia': 'MN', 'Macao': 'MO', 'Mauritania': 'MR', 'Malta': 'MT', 'Mauritius': 'MU', 'Maldives': 'MV', 'Malawi': 'MW', 'Mexico': 'MX', 'Malaysia': 'MY', 'Mozambique': 'MZ', 'Namibia': 'NA', 'Niger': 'NE', 'Nigeria': 'NG', 'Nicaragua': 'NI', 'Netherlands': 'NL', 'Norway': 'NO', 'Nepal': 'NP', 'Nauru': 'NR', 'New Zealand': 'NZ', 'Oman': 'OM', 'Panama': 'PA', 'Peru': 'PE', 'Papua New Guinea': 'PG', 'Philippines': 'PH', 'Pakistan': 'PK', 'Poland': 'PL', 'Palestine, State of': 'PS', 'Portugal': 'PT', 'Palau': 'PW', 'Paraguay': 'PY', 'Qatar': 'QA', 'Romania': 'RO', 'Serbia': 'RS', 'Rwanda': 'RW', 'Saudi Arabia': 'SA', 'Solomon Islands': 'SB', 'Seychelles': 'SC', 'Sweden': 'SE', 'Singapore': 'SG', 'Slovenia': 'SI', 'Slovakia': 'SK', 'Sierra Leone': 'SL', 'San Marino': 'SM', 'Senegal': 'SN', 'Suriname': 'SR', 'Sao Tome and Principe': 'ST', 'El Salvador': 'SV', 'Eswatini': 'SZ', 'Chad': 'TD', 'Togo': 'TG', 'Thailand': 'TH', 'Tajikistan': 'TJ', 'Timor-Leste': 'TL', 'Tunisia': 'TN', 'Tonga': 'TO', 'Turkey': 'TR', 'Trinidad and Tobago': 'TT', 'Tuvalu': 'TV', 'Taiwan, Province of China': 'TW', 'Tanzania, United Republic of': 'TZ', 'Ukraine': 'UA', 'Uganda': 'UG', 'United States': 'US', 'Uruguay': 'UY', 'Uzbekistan': 'UZ', 'Saint Vincent and the Grenadines': 'VC', 'Venezuela, Bolivarian Republic of': 'VE', 'Viet Nam': 'VN', 'Vanuatu': 'VU', 'Samoa': 'WS', None: 'XK', 'South Africa': 'ZA', 'Zambia': 'ZM', 'Zimbabwe': 'ZW'}\n"
     ]
    }
   ],
   "source": [
    "# countries = []\n",
    "# countries_2 = []\n",
    "# for i in country_data['markets']:\n",
    "#     countries.append(sp_api.get_country_name(i))\n",
    "#     countries_2.append(i)\n",
    "\n",
    "# country_dict = {}\n",
    "\n",
    "# for i in range(len(countries)):\n",
    "#     country_dict[countries[i]] = countries_2[i]\n",
    "\n",
    "# print(country_dict)\n",
    "\n",
    "\n",
    "# # Write to countries.json to map full country name to 2 letter name\n",
    "\n",
    "# with open(\"countries.json\", 'w') as file:\n",
    "#     sp_api.json.dump(country_dict, file)\n",
    "\n",
    "\n",
    "# list(countries)\n",
    "# print(countries)\n",
    "# list(countries_2)\n",
    "# print(countries_2)"
   ]
  },
  {
   "cell_type": "code",
   "execution_count": null,
   "metadata": {},
   "outputs": [],
   "source": [
    "# dict_ = {}\n",
    "# dict_['countries'] = countries_2\n",
    "# with open(\"countries_code.json\", 'w') as file:\n",
    "#     sp_api.json.dump(dict_, file)"
   ]
  },
  {
   "cell_type": "markdown",
   "metadata": {},
   "source": [
    "### Testing Random Countries"
   ]
  },
  {
   "cell_type": "code",
   "execution_count": null,
   "metadata": {},
   "outputs": [
    {
     "name": "stdout",
     "output_type": "stream",
     "text": [
      "GA\n"
     ]
    }
   ],
   "source": [
    "# rng = sp_api.random.randint(0, len(country_data['markets'])-1)\n",
    "# top_50_url = sp_api.get_top_50_url(token, country_data['markets'][rng])\n",
    "# print(countries_2[rng])"
   ]
  },
  {
   "cell_type": "code",
   "execution_count": null,
   "metadata": {},
   "outputs": [
    {
     "name": "stdout",
     "output_type": "stream",
     "text": [
      "Country: Gabon & Code: GA\n"
     ]
    }
   ],
   "source": [
    "# print(f\"Country: {sp_api.get_country_name(country_data['markets'][rng])} & Code: {country_data['markets'][rng]}\")"
   ]
  },
  {
   "cell_type": "code",
   "execution_count": null,
   "metadata": {},
   "outputs": [
    {
     "name": "stdout",
     "output_type": "stream",
     "text": [
      "{'spotify': 'https://open.spotify.com/playlist/37i9dQZF1DWX0o6sD1a6P5'}\n",
      "{'spotify': 'https://open.spotify.com/playlist/37i9dQZF1DX3oRZ26ZzwxF'}\n",
      "{'spotify': 'https://open.spotify.com/playlist/37i9dQZF1DWT0W2NVqAFjU'}\n"
     ]
    }
   ],
   "source": [
    "# if(top_50_url[0]['external_urls']['spotify'] == \"https://open.spotify.com/playlist/37i9dQZF1DXcBWIGoYBM5M\"):\n",
    "#     [print(top_50_url[i]['external_urls']) for i in range(1,3)]\n",
    "# else:\n",
    "#     [print(top_50_url[i]['external_urls']) for i in range(3)]"
   ]
  },
  {
   "cell_type": "markdown",
   "metadata": {},
   "source": [
    "## Getting Songs From Playlist Examples"
   ]
  },
  {
   "cell_type": "code",
   "execution_count": null,
   "metadata": {},
   "outputs": [],
   "source": [
    "# for cy in countries_2:\n",
    "#     top_songs = sp.get_songs_from_playlist(token, sp.get_top_50(token, cy))\n",
    "#     # with open(f\"../dataset/spotify_api/songs_{cy}.json\", 'w') as outfile:\n",
    "#     #     sp.json.dump(top_songs,outfile)"
   ]
  },
  {
   "cell_type": "markdown",
   "metadata": {},
   "source": [
    "### Getting Songs and Writing to JSON"
   ]
  },
  {
   "cell_type": "code",
   "execution_count": null,
   "metadata": {},
   "outputs": [],
   "source": [
    "# song_json = open(\"../dataset/spotify_api/songs_ES.json\", 'r')\n",
    "\n",
    "# songs = sp.json.load(song_json)['tracks']['items']\n",
    "\n",
    "# song_dict = {}\n",
    "# for i in range(len(songs)):\n",
    "\n",
    "#     songs_ = songs[i]\n",
    "#     song_track = songs_['track']\n",
    "\n",
    "#     song_dict[song_track['id']] = {}\n",
    "#     _song = song_dict[song_track['id']]\n",
    "#     _song['title'] = song_track['name']\n",
    "#     _song['artist'] = song_track['artists'][0]['name']\n",
    "#     _song['popularity'] = song_track['popularity']\n",
    "#     _song['explicit'] = song_track['explicit']\n",
    "#     genres = sp.get_genres(token, song_track['artists'][0]['id'])\n",
    "#     _song['genres'] = genres\n",
    "#     _song['duration_s'] = song_track['duration_ms'] / 1000\n",
    "\n",
    "#     with open(\"../dataset/top_songs/ES_top_songs.json\",\"w\") as outfile:\n",
    "#         sp.json.dump(song_dict, outfile)"
   ]
  }
 ],
 "metadata": {
  "kernelspec": {
   "display_name": "Python 3",
   "language": "python",
   "name": "python3"
  },
  "language_info": {
   "codemirror_mode": {
    "name": "ipython",
    "version": 3
   },
   "file_extension": ".py",
   "mimetype": "text/x-python",
   "name": "python",
   "nbconvert_exporter": "python",
   "pygments_lexer": "ipython3",
   "version": "3.11.0"
  }
 },
 "nbformat": 4,
 "nbformat_minor": 2
}
