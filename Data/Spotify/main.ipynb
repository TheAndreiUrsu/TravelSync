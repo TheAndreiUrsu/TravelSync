{
 "cells": [
  {
   "cell_type": "code",
   "execution_count": 3,
   "metadata": {},
   "outputs": [],
   "source": [
    "import pandas"
   ]
  },
  {
   "cell_type": "code",
   "execution_count": 6,
   "metadata": {},
   "outputs": [],
   "source": [
    "df = pandas.read_csv('../dataset/kaggle/top_200_songs_per_country.csv', low_memory=False)"
   ]
  },
  {
   "cell_type": "code",
   "execution_count": 7,
   "metadata": {},
   "outputs": [
    {
     "name": "stdout",
     "output_type": "stream",
     "text": [
      "country             object\n",
      "spotify_id          object\n",
      "name                object\n",
      "artists             object\n",
      "rank                object\n",
      "artist_genre        object\n",
      "danceability        object\n",
      "energy              object\n",
      "key                 object\n",
      "mode                object\n",
      "loudness            object\n",
      "speechiness         object\n",
      "acousticness        object\n",
      "instrumentalness    object\n",
      "liveness            object\n",
      "valence             object\n",
      "tempo               object\n",
      "duration_s          object\n",
      "region              object\n",
      "dtype: object\n"
     ]
    }
   ],
   "source": [
    "print(df.dtypes)"
   ]
  }
 ],
 "metadata": {
  "kernelspec": {
   "display_name": "Python 3",
   "language": "python",
   "name": "python3"
  },
  "language_info": {
   "codemirror_mode": {
    "name": "ipython",
    "version": 3
   },
   "file_extension": ".py",
   "mimetype": "text/x-python",
   "name": "python",
   "nbconvert_exporter": "python",
   "pygments_lexer": "ipython3",
   "version": "3.11.0"
  }
 },
 "nbformat": 4,
 "nbformat_minor": 2
}
