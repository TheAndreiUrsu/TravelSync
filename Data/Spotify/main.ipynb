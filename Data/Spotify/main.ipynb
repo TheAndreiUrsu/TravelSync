{
 "cells": [
  {
   "cell_type": "code",
   "execution_count": 8,
   "metadata": {},
   "outputs": [],
   "source": [
    "import pandas as pd\n",
    "import Song as s"
   ]
  },
  {
   "cell_type": "code",
   "execution_count": null,
   "metadata": {},
   "outputs": [],
   "source": [
    "df = pd.read_csv('C:/Users/delam/TravelSync/TravelSync/Data/dataset/kaggle/top_songs_per_country.csv')"
   ]
  },
  {
   "cell_type": "code",
   "execution_count": null,
   "metadata": {},
   "outputs": [],
   "source": [
    "country = input(\"Enter Country \")\n",
    "df_co = df[df[\"Country\"] == country]\n",
    "temp = s.Song(df_co[\"Name\"][0], df_co[\"Artist\"][0], df_co[\"Genres\"][0], df_co[\"Explicit\"][0], df[\"duration_s\"][0], df[\"danceability\"][0], df[\"energy\"][0], df[\"key\"][0], df[\"loudness\"][0], df[\"speechiness\"][0], df[\"acoustics\"][0], df[\"instrumentalness\"][0], df[\"liveliness\"][0], df[\"valence\"][0], df[\"tempo\"][0])\n",
    "\n",
    "print(temp.name)"
   ]
  }
 ],
 "metadata": {
  "kernelspec": {
   "display_name": "Python 3",
   "language": "python",
   "name": "python3"
  },
  "language_info": {
   "codemirror_mode": {
    "name": "ipython",
    "version": 3
   },
   "file_extension": ".py",
   "mimetype": "text/x-python",
   "name": "python",
   "nbconvert_exporter": "python",
   "pygments_lexer": "ipython3",
   "version": "3.12.0"
  }
 },
 "nbformat": 4,
 "nbformat_minor": 2
}
