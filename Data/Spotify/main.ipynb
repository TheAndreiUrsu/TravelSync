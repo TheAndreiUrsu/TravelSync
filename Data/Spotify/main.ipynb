{
 "cells": [
  {
   "cell_type": "markdown",
   "metadata": {},
   "source": [
    "# Spotify API"
   ]
  },
  {
   "cell_type": "markdown",
   "metadata": {},
   "source": [
    "## Package"
   ]
  },
  {
   "cell_type": "code",
   "execution_count": 1,
   "metadata": {},
   "outputs": [],
   "source": [
    "import spotify_api as sp_api"
   ]
  },
  {
   "cell_type": "markdown",
   "metadata": {},
   "source": [
    "## Getting Token"
   ]
  },
  {
   "cell_type": "code",
   "execution_count": 2,
   "metadata": {},
   "outputs": [],
   "source": [
    "token = sp_api.get_token()"
   ]
  },
  {
   "cell_type": "markdown",
   "metadata": {},
   "source": [
    "## Get Top 50 By Hardcoding"
   ]
  },
  {
   "cell_type": "markdown",
   "metadata": {},
   "source": [
    "## Testing Getting Top Playlist"
   ]
  },
  {
   "cell_type": "code",
   "execution_count": null,
   "metadata": {},
   "outputs": [],
   "source": [
    "import spotipy\n",
    "from spotipy.oauth2 import SpotifyOAuth\n",
    "\n",
    "sp = spotipy.Spotify(auth=token)"
   ]
  },
  {
   "cell_type": "code",
   "execution_count": null,
   "metadata": {},
   "outputs": [],
   "source": [
    "categories = sp.categories()\n",
    "#print(categories['categories']['items'])"
   ]
  },
  {
   "cell_type": "code",
   "execution_count": null,
   "metadata": {},
   "outputs": [],
   "source": [
    "top_lists_id = None\n",
    "for category in categories['categories']['items']:\n",
    "    if category['name'] == 'Top Lists':\n",
    "        top_lists_id = category['id']\n",
    "        break"
   ]
  },
  {
   "cell_type": "code",
   "execution_count": null,
   "metadata": {},
   "outputs": [],
   "source": [
    "countries_ = sp_api.json.load(open(\"countries_code.json\"))['countries']"
   ]
  },
  {
   "cell_type": "code",
   "execution_count": null,
   "metadata": {},
   "outputs": [],
   "source": [
    "for country_code in countries_:\n",
    "    playlists = sp.category_playlists(category_id=top_lists_id, country=country_code, limit=4)\n",
    "\n",
    "    for playlist in playlists['playlists']['items']:\n",
    "        print(f\"{country_code} : {playlist}\")"
   ]
  },
  {
   "cell_type": "markdown",
   "metadata": {},
   "source": [
    "## Obtaining Dataset"
   ]
  },
  {
   "cell_type": "code",
   "execution_count": 5,
   "metadata": {},
   "outputs": [],
   "source": [
    "country_json = open(\"../dataset/playlist_ids/ids.json\")\n",
    "country_data = sp_api.json.load(country_json)\n",
    "\n",
    "#top_song = sp_api.get_songs_from_playlist(token,country_data[\"AD\"])['tracks']['items']\n",
    "\n",
    "for cy in country_data:\n",
    "    top_songs = sp_api.get_songs_from_playlist(token, country_data[cy])['tracks']['items']\n",
    "\n",
    "    song_dict = {}\n",
    "    \n",
    "    for i in range(len(top_songs)):\n",
    "        songs_ = top_songs[i]\n",
    "        song_track = songs_['track']\n",
    "        \n",
    "        song_dict[song_track['id']] = {}\n",
    "        _song = song_dict[song_track['id']]\n",
    "        _song['title'] = song_track['name']\n",
    "        _song['artist'] = song_track['artists'][0]['name']\n",
    "        _song['popularity'] = song_track['popularity']\n",
    "        _song['explicit'] = song_track['explicit']\n",
    "        genres = sp_api.get_genres(token, song_track['artists'][0]['id'])\n",
    "        _song['genres'] = genres\n",
    "        _song['duration_s'] = song_track['duration_ms'] / 1000\n",
    "\n",
    "        with open(f\"../dataset/top_songs/{cy}_top_songs.json\",\"w\") as outfile:\n",
    "            sp_api.json.dump(song_dict, outfile)\n",
    "\n",
    "\n",
    "# song_json = open(\"../dataset/spotify_api/songs_ES.json\", 'r')\n",
    "\n",
    "# songs = sp_api.json.load(song_json)['tracks']['items']\n",
    "\n",
    "# song_dict = {}\n",
    "# for i in range(len(songs)):\n",
    "\n",
    "#     songs_ = songs[i]\n",
    "#     song_track = songs_['track']\n",
    "\n",
    "#     song_dict[song_track['id']] = {}\n",
    "#     _song = song_dict[song_track['id']]\n",
    "#     _song['title'] = song_track['name']\n",
    "#     _song['artist'] = song_track['artists'][0]['name']\n",
    "#     _song['popularity'] = song_track['popularity']\n",
    "#     _song['explicit'] = song_track['explicit']\n",
    "#     genres = sp_api.get_genres(token, song_track['artists'][0]['id'])\n",
    "#     _song['genres'] = genres\n",
    "#     _song['duration_s'] = song_track['duration_ms'] / 1000\n",
    "\n",
    "#     with open(\"../dataset/top_songs/ES_top_songs.json\",\"w\") as outfile:\n",
    "#         sp_api.json.dump(song_dict, outfile)"
   ]
  },
  {
   "cell_type": "markdown",
   "metadata": {},
   "source": [
    "## Countries"
   ]
  },
  {
   "cell_type": "code",
   "execution_count": null,
   "metadata": {},
   "outputs": [],
   "source": [
    "# country_json = open(\"countries.json\")\n",
    "# country_data = sp_api.json.load(country_json)\n",
    "\n",
    "# print(f\"Number of countries supported by sp_apiotify: {len(country_data['markets'])}\")\n"
   ]
  },
  {
   "cell_type": "code",
   "execution_count": null,
   "metadata": {},
   "outputs": [],
   "source": [
    "# countries = []\n",
    "# countries_2 = []\n",
    "# for i in country_data['markets']:\n",
    "#     countries.append(sp_api.get_country_name(i))\n",
    "#     countries_2.append(i)\n",
    "\n",
    "# country_dict = {}\n",
    "\n",
    "# for i in range(len(countries)):\n",
    "#     country_dict[countries[i]] = countries_2[i]\n",
    "\n",
    "# print(country_dict)\n",
    "\n",
    "\n",
    "# # Write to countries.json to map full country name to 2 letter name\n",
    "\n",
    "# with open(\"countries.json\", 'w') as file:\n",
    "#     sp_api.json.dump(country_dict, file)\n",
    "\n",
    "\n",
    "# list(countries)\n",
    "# print(countries)\n",
    "# list(countries_2)\n",
    "# print(countries_2)"
   ]
  },
  {
   "cell_type": "code",
   "execution_count": null,
   "metadata": {},
   "outputs": [],
   "source": [
    "# dict_ = {}\n",
    "# dict_['countries'] = countries_2\n",
    "# with open(\"countries_code.json\", 'w') as file:\n",
    "#     sp_api.json.dump(dict_, file)"
   ]
  },
  {
   "cell_type": "markdown",
   "metadata": {},
   "source": [
    "### Testing Random Countries"
   ]
  },
  {
   "cell_type": "code",
   "execution_count": null,
   "metadata": {},
   "outputs": [],
   "source": [
    "# rng = sp_api.random.randint(0, len(country_data['markets'])-1)\n",
    "# top_50_url = sp_api.get_top_50_url(token, country_data['markets'][rng])\n",
    "# print(countries_2[rng])"
   ]
  },
  {
   "cell_type": "code",
   "execution_count": null,
   "metadata": {},
   "outputs": [],
   "source": [
    "# print(f\"Country: {sp_api.get_country_name(country_data['markets'][rng])} & Code: {country_data['markets'][rng]}\")"
   ]
  },
  {
   "cell_type": "code",
   "execution_count": null,
   "metadata": {},
   "outputs": [],
   "source": [
    "# if(top_50_url[0]['external_urls']['spotify'] == \"https://open.spotify.com/playlist/37i9dQZF1DXcBWIGoYBM5M\"):\n",
    "#     [print(top_50_url[i]['external_urls']) for i in range(1,3)]\n",
    "# else:\n",
    "#     [print(top_50_url[i]['external_urls']) for i in range(3)]"
   ]
  },
  {
   "cell_type": "markdown",
   "metadata": {},
   "source": [
    "## Getting Songs From Playlist Examples"
   ]
  },
  {
   "cell_type": "code",
   "execution_count": null,
   "metadata": {},
   "outputs": [],
   "source": [
    "# for cy in countries_2:\n",
    "#     top_songs = sp.get_songs_from_playlist(token, sp.get_top_50(token, cy))\n",
    "#     # with open(f\"../dataset/spotify_api/songs_{cy}.json\", 'w') as outfile:\n",
    "#     #     sp.json.dump(top_songs,outfile)"
   ]
  },
  {
   "cell_type": "markdown",
   "metadata": {},
   "source": [
    "### Getting Songs and Writing to JSON"
   ]
  },
  {
   "cell_type": "code",
   "execution_count": null,
   "metadata": {},
   "outputs": [],
   "source": [
    "# song_json = open(\"../dataset/spotify_api/songs_ES.json\", 'r')\n",
    "\n",
    "# songs = sp.json.load(song_json)['tracks']['items']\n",
    "\n",
    "# song_dict = {}\n",
    "# for i in range(len(songs)):\n",
    "\n",
    "#     songs_ = songs[i]\n",
    "#     song_track = songs_['track']\n",
    "\n",
    "#     song_dict[song_track['id']] = {}\n",
    "#     _song = song_dict[song_track['id']]\n",
    "#     _song['title'] = song_track['name']\n",
    "#     _song['artist'] = song_track['artists'][0]['name']\n",
    "#     _song['popularity'] = song_track['popularity']\n",
    "#     _song['explicit'] = song_track['explicit']\n",
    "#     genres = sp.get_genres(token, song_track['artists'][0]['id'])\n",
    "#     _song['genres'] = genres\n",
    "#     _song['duration_s'] = song_track['duration_ms'] / 1000\n",
    "\n",
    "#     with open(\"../dataset/top_songs/ES_top_songs.json\",\"w\") as outfile:\n",
    "#         sp.json.dump(song_dict, outfile)"
   ]
  }
 ],
 "metadata": {
  "kernelspec": {
   "display_name": "Python 3",
   "language": "python",
   "name": "python3"
  },
  "language_info": {
   "codemirror_mode": {
    "name": "ipython",
    "version": 3
   },
   "file_extension": ".py",
   "mimetype": "text/x-python",
   "name": "python",
   "nbconvert_exporter": "python",
   "pygments_lexer": "ipython3",
   "version": "3.11.0"
  }
 },
 "nbformat": 4,
 "nbformat_minor": 2
}
