{
 "cells": [
  {
   "cell_type": "markdown",
   "metadata": {},
   "source": [
    "# Getting the top songs from each country"
   ]
  },
  {
   "cell_type": "code",
   "execution_count": 6,
   "metadata": {},
   "outputs": [],
   "source": [
    "# import get_top_id as top"
   ]
  },
  {
   "cell_type": "code",
   "execution_count": 13,
   "metadata": {},
   "outputs": [],
   "source": [
    "# country_j = open(\"countries.json\")\n",
    "# country_dict = json.load(country_j)\n",
    "\n",
    "# urls = {}\n",
    "\n",
    "# for country_name, country_code in country_dict.items():\n",
    "#     urls[country_code] = top.get_result(f\"Top 50 {country_name} Spotify\")\n",
    "\n",
    "# with open(\"../dataset/playlist_ids/top_50.json\", \"w\") as file:\n",
    "#     json.dump(urls,file)\n",
    "\n",
    "# country_j.close()\n"
   ]
  },
  {
   "cell_type": "code",
   "execution_count": 23,
   "metadata": {},
   "outputs": [],
   "source": [
    "# top_50 = open(\"../dataset/playlist_ids/top_50.json\")\n",
    "# dict_50 = json.load(top_50)\n",
    "\n",
    "# for key, value in dict_50.items():\n",
    "#     dict_50[key] = value.split(\"/\")[-1]\n",
    "\n",
    "# with open(\"../dataset/playlist_ids/ids.json\", 'w') as file:\n",
    "#     json.dump(dict_50,file)\n",
    "# top_50.close()"
   ]
  }
 ],
 "metadata": {
  "kernelspec": {
   "display_name": "Python 3",
   "language": "python",
   "name": "python3"
  },
  "language_info": {
   "codemirror_mode": {
    "name": "ipython",
    "version": 3
   },
   "file_extension": ".py",
   "mimetype": "text/x-python",
   "name": "python",
   "nbconvert_exporter": "python",
   "pygments_lexer": "ipython3",
   "version": "3.11.0"
  }
 },
 "nbformat": 4,
 "nbformat_minor": 2
}
